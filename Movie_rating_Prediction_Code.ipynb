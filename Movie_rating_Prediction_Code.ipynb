{
  "nbformat": 4,
  "nbformat_minor": 0,
  "metadata": {
    "colab": {
      "provenance": [],
      "authorship_tag": "ABX9TyPrDF98NWgLbyPTu5tpn7bY",
      "include_colab_link": true
    },
    "kernelspec": {
      "name": "python3",
      "display_name": "Python 3"
    },
    "language_info": {
      "name": "python"
    }
  },
  "cells": [
    {
      "cell_type": "markdown",
      "metadata": {
        "id": "view-in-github",
        "colab_type": "text"
      },
      "source": [
        "<a href=\"https://colab.research.google.com/github/yakshteja2004/codesoft/blob/main/Movie_rating_Prediction_Code.ipynb\" target=\"_parent\"><img src=\"https://colab.research.google.com/assets/colab-badge.svg\" alt=\"Open In Colab\"/></a>"
      ]
    },
    {
      "cell_type": "code",
      "source": [
        "###Import and Load Data\n",
        "import pandas as pd\n",
        "\n",
        "# Example movie dataset\n",
        "movie_data = {\n",
        "    'rating': [7.5, 8.2, 6.0, 7.9, 8.5, 6.8, 7.3, 8.1, 7.7, 6.5],\n",
        "    'genre': ['Action', 'Comedy', 'Drama', 'Action', 'Romance', 'Comedy', 'Drama', 'Action', 'Romance', 'Action'],\n",
        "    'director': ['Director1', 'Director2', 'Director3', 'Director1', 'Director2', 'Director3', 'Director1', 'Director2', 'Director3', 'Director1'],\n",
        "    'actors': ['Actor1', 'Actor2', 'Actor2', 'Actor3', 'Actor1', 'Actor4', 'Actor1', 'Actor3', 'Actor2', 'Actor3']\n",
        "}\n",
        "\n",
        "df_movies = pd.DataFrame(movie_data)\n",
        "\n",
        "# Preview the dataset\n",
        "print(df_movies.head())"
      ],
      "metadata": {
        "id": "PEDWrfiC_zgH"
      },
      "execution_count": null,
      "outputs": []
    },
    {
      "cell_type": "code",
      "source": [
        "###Preprocessing and Encoding\n",
        "from sklearn.feature_extraction.text import CountVectorizer\n",
        "\n",
        "# One-hot encode categorical columns\n",
        "df_encoded = pd.get_dummies(df_movies, columns=['genre', 'director'], drop_first=True)\n",
        "\n",
        "# Convert 'actors' column into a numeric feature using CountVectorizer\n",
        "vectorizer = CountVectorizer(tokenizer=lambda x: x.split(', '))\n",
        "actors_matrix = vectorizer.fit_transform(df_movies['actors'])\n",
        "\n",
        "# Convert to DataFrame\n",
        "actors_df = pd.DataFrame(actors_matrix.toarray(), columns=vectorizer.get_feature_names_out())\n",
        "\n",
        "# Combine encoded features\n",
        "df_encoded = pd.concat([df_encoded.drop('actors', axis=1), actors_df], axis=1)\n",
        "\n",
        "# Show preprocessed data\n",
        "print(df_encoded.head())"
      ],
      "metadata": {
        "id": "Dfongb2P_x8y"
      },
      "execution_count": null,
      "outputs": []
    },
    {
      "cell_type": "code",
      "source": [
        "###Split Data into Training and Testing Sets\n",
        "from sklearn.model_selection import train_test_split\n",
        "\n",
        "# Define features and target\n",
        "X = df_encoded.drop('rating', axis=1)\n",
        "y = df_encoded['rating']\n",
        "\n",
        "# Split data\n",
        "X_train, X_test, y_train, y_test = train_test_split(X, y, test_size=0.2, random_state=42)"
      ],
      "metadata": {
        "id": "qHfmSykC_6cw"
      },
      "execution_count": 12,
      "outputs": []
    },
    {
      "cell_type": "code",
      "source": [
        "###Train and Evaluate Linear Regression\n",
        "from sklearn.linear_model import LinearRegression\n",
        "from sklearn.metrics import mean_squared_error, r2_score\n",
        "\n",
        "# Linear Regression model\n",
        "linear_model = LinearRegression()\n",
        "linear_model.fit(X_train, y_train)\n",
        "\n",
        "# Predict and evaluate\n",
        "y_pred_lin = linear_model.predict(X_test)\n",
        "mse_lin = mean_squared_error(y_test, y_pred_lin)\n",
        "r2_lin = r2_score(y_test, y_pred_lin)\n",
        "\n",
        "print(f\"Linear Regression - MSE: {mse_lin:.2f}, R²: {r2_lin:.2f}\")\n"
      ],
      "metadata": {
        "colab": {
          "base_uri": "https://localhost:8080/"
        },
        "id": "7XNZ4_UpB83u",
        "outputId": "d5638751-fe5d-4c0f-ec83-d793536a558a"
      },
      "execution_count": 13,
      "outputs": [
        {
          "output_type": "stream",
          "name": "stdout",
          "text": [
            "Linear Regression - MSE: 1.16, R²: -17.63\n"
          ]
        }
      ]
    },
    {
      "cell_type": "code",
      "source": [
        "###Train and Evaluate Random Forest Regressor\n",
        "from sklearn.ensemble import RandomForestRegressor\n",
        "\n",
        "# Random Forest Regressor\n",
        "rf_reg = RandomForestRegressor(n_estimators=100, random_state=42)\n",
        "rf_reg.fit(X_train, y_train)\n",
        "\n",
        "# Predict and evaluate\n",
        "y_pred_rf = rf_reg.predict(X_test)\n",
        "mse_rf = mean_squared_error(y_test, y_pred_rf)\n",
        "r2_rf = r2_score(y_test, y_pred_rf)\n",
        "\n",
        "print(f\"Random Forest Regressor - MSE: {mse_rf:.2f}, R²: {r2_rf:.2f}\")"
      ],
      "metadata": {
        "colab": {
          "base_uri": "https://localhost:8080/"
        },
        "id": "Otn0h9w1C6qi",
        "outputId": "db11c010-f395-4cc9-d606-9603927faa75"
      },
      "execution_count": 14,
      "outputs": [
        {
          "output_type": "stream",
          "name": "stdout",
          "text": [
            "Random Forest Regressor - MSE: 0.71, R²: -10.34\n"
          ]
        }
      ]
    }
  ]
}