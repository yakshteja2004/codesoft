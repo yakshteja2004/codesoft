{
  "nbformat": 4,
  "nbformat_minor": 0,
  "metadata": {
    "colab": {
      "provenance": [],
      "authorship_tag": "ABX9TyOyhFqD88UHUry4ePokfSRy",
      "include_colab_link": true
    },
    "kernelspec": {
      "name": "python3",
      "display_name": "Python 3"
    },
    "language_info": {
      "name": "python"
    }
  },
  "cells": [
    {
      "cell_type": "markdown",
      "metadata": {
        "id": "view-in-github",
        "colab_type": "text"
      },
      "source": [
        "<a href=\"https://colab.research.google.com/github/yakshteja2004/codesoft/blob/main/Movie_rating_Prediction_Code.ipynb\" target=\"_parent\"><img src=\"https://colab.research.google.com/assets/colab-badge.svg\" alt=\"Open In Colab\"/></a>"
      ]
    },
    {
      "cell_type": "code",
      "source": [
        "#Import and Load Data\n",
        "import pandas as pd\n",
        "\n",
        "#Example movie dataset\n",
        "movie_data={\n",
        "    'rating':[7.5,8.2,6.0,7.9,8.5,6.8,7.3,8.1,7.7,6.5,],\n",
        "    'genre':['Action','Comedy','Drama','Action','Romance','Comedy','Drama','Action','Romance','Action'],\n",
        "    'director':['Director1','Director2','Director3','Director1','Director2','Director3','DIrector1','Director2','DIrecotr3','Director1'],\n",
        "    'actors':['Actor1','Actor2','Actor3','Actor1','Actor1','Actor4','Actor1','Actor3','Actor2','Actor3']\n",
        "}\n",
        "\n",
        "df_movies = pd.DataFrame(movie_data)\n",
        "\n",
        "#preview the dataset\n",
        "print(df_movies.head())"
      ],
      "metadata": {
        "colab": {
          "base_uri": "https://localhost:8080/"
        },
        "id": "cca5CHA-tsEO",
        "outputId": "486d3a26-8d46-4240-eb77-3636647396ed"
      },
      "execution_count": null,
      "outputs": [
        {
          "output_type": "stream",
          "name": "stdout",
          "text": [
            "   rating    genre   director  actors\n",
            "0     7.5   Action  Director1  Actor1\n",
            "1     8.2   Comedy  Director2  Actor2\n",
            "2     6.0    Drama  Director3  Actor3\n",
            "3     7.9   Action  Director1  Actor1\n",
            "4     8.5  Romance  Director2  Actor1\n"
          ]
        }
      ]
    },
    {
      "cell_type": "code",
      "source": [
        "#Preprocessing and Encoding\n",
        "from sklearn.feature_extraction.text import CountVectorizer\n",
        "\n",
        "# One-hot encode categorical columns\n",
        "df_encoded = pd.get_dummies(df_movies, columns=['genre', 'director'], drop_first=True)\n",
        "\n",
        "# Convert 'actors' column into a numeric feature using CountVectorizer\n",
        "vectorizer = CountVectorizer(tokenizer=lambda x: x.split(', '))\n",
        "actors_matrix = vectorizer.fit_transform(df_movies['actors'])\n",
        "\n",
        "# Convert to DataFrame\n",
        "actors_df = pd.DataFrame(actors_matrix.toarray(), columns=vectorizer.get_feature_names_out())\n",
        "\n",
        "# Combine encoded features\n",
        "df_encoded = pd.concat([df_encoded.drop('actors', axis=1), actors_df], axis=1)\n",
        "\n",
        "# Show preprocessed data\n",
        "print(df_encoded.head())"
      ],
      "metadata": {
        "colab": {
          "base_uri": "https://localhost:8080/"
        },
        "id": "d3mapqu_6cQB",
        "outputId": "f3247736-8438-4f8c-e4c6-2b4bafbf1d81"
      },
      "execution_count": null,
      "outputs": [
        {
          "output_type": "stream",
          "name": "stdout",
          "text": [
            "   rating  genre_Comedy  genre_Drama  genre_Romance  director_DIrector1  \\\n",
            "0     7.5         False        False          False               False   \n",
            "1     8.2          True        False          False               False   \n",
            "2     6.0         False         True          False               False   \n",
            "3     7.9         False        False          False               False   \n",
            "4     8.5         False        False           True               False   \n",
            "\n",
            "   director_Director1  director_Director2  director_Director3  actor1  actor2  \\\n",
            "0                True               False               False       1       0   \n",
            "1               False                True               False       0       1   \n",
            "2               False               False                True       0       0   \n",
            "3                True               False               False       1       0   \n",
            "4               False                True               False       1       0   \n",
            "\n",
            "   actor3  actor4  \n",
            "0       0       0  \n",
            "1       0       0  \n",
            "2       1       0  \n",
            "3       0       0  \n",
            "4       0       0  \n"
          ]
        },
        {
          "output_type": "stream",
          "name": "stderr",
          "text": [
            "/usr/local/lib/python3.11/dist-packages/sklearn/feature_extraction/text.py:517: UserWarning: The parameter 'token_pattern' will not be used since 'tokenizer' is not None'\n",
            "  warnings.warn(\n"
          ]
        }
      ]
    },
    {
      "cell_type": "code",
      "source": [
        "#Split Data into Training and Testing Sets\n",
        "from sklearn.model_selection import train_test_split\n",
        "\n",
        "#Define features and target\n",
        "X= df_encoded.drop('rating', axis=1)\n",
        "y=df_encoded['rating']\n",
        "\n",
        "#split data\n",
        "X_train, X_test, y_train, y_test = train_test_split(X, y, test_size=0.2, random_state=42)\n"
      ],
      "metadata": {
        "id": "udPImNpt6ilD"
      },
      "execution_count": null,
      "outputs": []
    },
    {
      "cell_type": "code",
      "source": [
        "#Train and Evaluate Linear Regression\n",
        "from sklearn.linear_model import LinearRegression\n",
        "from sklearn.metrics import mean_squared_error, r2_score\n",
        "\n",
        "#Linear Regression model\n",
        "linear_model=LinearRegression()\n",
        "linear_model.fit(X_train, y_train)\n",
        "\n",
        "#Predict and evaluate\n",
        "y_pred_lin= linear_model.predict(X_test)\n",
        "mse_lin=mean_squared_error(y_test,y_pred_lin)\n",
        "r2_lin=r2_score(y_test,y_pred_lin)\n",
        "\n",
        "print(f\"Linear Regression -MSE: {mse_lin:.2f} R²: {r2_lin:.2f}\")\n"
      ],
      "metadata": {
        "colab": {
          "base_uri": "https://localhost:8080/"
        },
        "id": "Xn0MIrmXI63Y",
        "outputId": "1c0e5da9-2f8e-4fc7-d042-60b0527c82bf"
      },
      "execution_count": 51,
      "outputs": [
        {
          "output_type": "stream",
          "name": "stdout",
          "text": [
            "Linear Regression -MSE: 0.56 R²: -7.96\n"
          ]
        }
      ]
    },
    {
      "cell_type": "code",
      "source": [
        "#Train and Evaluate Random Forest Regressor\n",
        "from sklearn.ensemble import RandomForestRegressor\n",
        "\n",
        "#Random Forest Regressor\n",
        "rf_reg = RandomForestRegressor(n_estimators=100, random_state=42)\n",
        "rf_reg.fit(X_train,y_train)\n",
        "\n",
        "#Predict and evaluate\n",
        "y_pred_rf=rf_reg.predict(X_test)\n",
        "mse_rf=mean_squared_error(y_test,y_pred_rf)\n",
        "r2_rf=r2_score(y_test,y_pred_rf)\n",
        "\n",
        "print(f\"Random Forest Regression -MSE: {mse_lin:.2f}, R²: {r2_lin:.2f} \")\n"
      ],
      "metadata": {
        "colab": {
          "base_uri": "https://localhost:8080/"
        },
        "id": "6-tmU3Q9OJLo",
        "outputId": "5c41d958-7b88-41b9-ecbe-41dc982364b5"
      },
      "execution_count": 53,
      "outputs": [
        {
          "output_type": "stream",
          "name": "stdout",
          "text": [
            "Random Forest Regression -MSE: 0.56, R²: -7.96 \n"
          ]
        }
      ]
    }
  ]
}